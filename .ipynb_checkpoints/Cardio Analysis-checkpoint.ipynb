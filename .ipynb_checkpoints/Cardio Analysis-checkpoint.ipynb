{
 "cells": [
  {
   "cell_type": "markdown",
   "id": "101404ad",
   "metadata": {},
   "source": [
    "## EDA of cadiovascular diseases data \n",
    "\n",
    "(https://www.kaggle.com/code/sulianova/eda-cardiovascular-data/notebook)\n",
    "\n",
    "According to the description of this notebook, https://www.kaggle.com/code/sulianova/eda-cardiovascular-data/notebook,\n",
    "\n",
    "the dataset consists of 70 000 records of patients data in 12 features, such as age, gender, systolic blood pressure, diastolic blood pressure, and etc. The target class \"cardio\" equals to 1, when patient has cardiovascular desease, and it's 0, if patient is healthy.\n",
    "\n",
    "The goal of Data Analysis is to answer questions about the data, to extract relevant information from the values. Then, if we can automatize the analysis we did and monitor the results, we'll be able to tackle on big data projects. \n",
    "\n",
    "One simple step would be to write down a notebook with full analysis on a particular dataset and then changing the input data to a bigger and more diverse dataset and see if the foundings and conclusions still hold true. \n",
    "\n",
    "Another way (more clever and efficient) is testing different machine learning models along with cross-validation techniques and elect the one with better results (the best accuracy when it comes to predict target class). By separating the dataset in train and test partitions, we can assure the model trained from train data would be unbiased to the test data, and thus, our results would hold themselves more certain of the model ability of generalization. (Study more on https://www.statlearning.com/).\n",
    "\n",
    "\n",
    "#### Data description\n",
    "\n",
    "There are 3 types of input features:\n",
    "\n",
    "- *Objective*: factual information;\n",
    "- *Examination*: results of medical examination;\n",
    "- *Subjective*: information given by the patient.\n",
    "\n",
    "| Feature | Variable Type | Variable      | Value Type |\n",
    "|---------|--------------|---------------|------------|\n",
    "| Age | Objective Feature | age | int (days) |\n",
    "| Height | Objective Feature | height | int (cm) |\n",
    "| Weight | Objective Feature | weight | float (kg) |\n",
    "| Gender | Objective Feature | gender | categorical code |\n",
    "| Systolic blood pressure | Examination Feature | ap_hi | int |\n",
    "| Diastolic blood pressure | Examination Feature | ap_lo | int |\n",
    "| Cholesterol | Examination Feature | cholesterol | 1: normal, 2: above normal, 3: well above normal |\n",
    "| Glucose | Examination Feature | gluc | 1: normal, 2: above normal, 3: well above normal |\n",
    "| Smoking | Subjective Feature | smoke | binary |\n",
    "| Alcohol intake | Subjective Feature | alco | binary |\n",
    "| Physical activity | Subjective Feature | active | binary |\n",
    "| Presence or absence of cardiovascular disease | Target Variable | cardio | binary |\n",
    "\n",
    "All of the dataset values were collected at the moment of medical examination. \n",
    "\n",
    "### Initial analysis\n",
    "Let's review the dataset and its columns.\n",
    "\n"
   ]
  },
  {
   "cell_type": "code",
   "execution_count": 47,
   "id": "922d67a3",
   "metadata": {},
   "outputs": [
    {
     "name": "stdout",
     "output_type": "stream",
     "text": [
      "<class 'pandas.core.frame.DataFrame'>\n",
      "RangeIndex: 70000 entries, 0 to 69999\n",
      "Data columns (total 13 columns):\n",
      " #   Column       Non-Null Count  Dtype  \n",
      "---  ------       --------------  -----  \n",
      " 0   id           70000 non-null  int32  \n",
      " 1   age          70000 non-null  int32  \n",
      " 2   gender       70000 non-null  int32  \n",
      " 3   height       70000 non-null  int32  \n",
      " 4   weight       70000 non-null  float64\n",
      " 5   ap_hi        70000 non-null  int32  \n",
      " 6   ap_lo        70000 non-null  int32  \n",
      " 7   cholesterol  70000 non-null  int32  \n",
      " 8   gluc         70000 non-null  int32  \n",
      " 9   smoke        70000 non-null  int32  \n",
      " 10  alco         70000 non-null  int32  \n",
      " 11  active       70000 non-null  int32  \n",
      " 12  cardio       70000 non-null  int32  \n",
      "dtypes: float64(1), int32(12)\n",
      "memory usage: 3.7 MB\n",
      "root\n",
      " |-- id: integer (nullable = true)\n",
      " |-- age: integer (nullable = true)\n",
      " |-- gender: integer (nullable = true)\n",
      " |-- height: integer (nullable = true)\n",
      " |-- weight: double (nullable = true)\n",
      " |-- ap_hi: integer (nullable = true)\n",
      " |-- ap_lo: integer (nullable = true)\n",
      " |-- cholesterol: integer (nullable = true)\n",
      " |-- gluc: integer (nullable = true)\n",
      " |-- smoke: integer (nullable = true)\n",
      " |-- alco: integer (nullable = true)\n",
      " |-- active: integer (nullable = true)\n",
      " |-- cardio: integer (nullable = true)\n",
      "\n",
      "70000\n"
     ]
    }
   ],
   "source": [
    "ss = SparkSession.builder.appName(\"cardio_dataset\").getOrCreate()\n",
    "df_cardio = spark.read.options(header='True', inferSchema='True', delimiter=';').csv(\"./data/cardio_train.csv\")\n",
    "df_cardio.createOrReplaceTempView(\"tab_cardio\")\n",
    "\n",
    "pd_df_cardio = df_cardio.toPandas()\n",
    "pd_df_cardio.info() #70.000 rows of 13 columns: 1 id and 12 features\n",
    "\n",
    "df_cardio.printSchema() #we're going to ommit this specific command later on, because the pandas df one is more infomative \n",
    "\n",
    "#if the data has duplicate rows, we can delete them\n",
    "pd_df_cardio.drop_duplicates(inplace=True)\n",
    "\n",
    "#if the unique values of a column matches the number of rows, it's a potential key, if not told before\n",
    "print(pd_df_cardio.id.nunique())\n",
    "\n"
   ]
  },
  {
   "cell_type": "code",
   "execution_count": 48,
   "id": "f7da025c",
   "metadata": {},
   "outputs": [
    {
     "name": "stdout",
     "output_type": "stream",
     "text": [
      "root\n",
      " |-- id: integer (nullable = true)\n",
      " |-- age: integer (nullable = true)\n",
      " |-- gender: integer (nullable = true)\n",
      " |-- height: integer (nullable = true)\n",
      " |-- weight: double (nullable = true)\n",
      " |-- ap_hi: integer (nullable = true)\n",
      " |-- ap_lo: integer (nullable = true)\n",
      " |-- cholesterol: integer (nullable = true)\n",
      " |-- smoke: integer (nullable = true)\n",
      "\n",
      "root\n",
      " |-- id: integer (nullable = true)\n",
      " |-- alco: integer (nullable = true)\n",
      "\n",
      "+---+-----+------+------+------+-----+-----+-----------+-----+----+\n",
      "| id|  age|gender|height|weight|ap_hi|ap_lo|cholesterol|smoke|alco|\n",
      "+---+-----+------+------+------+-----+-----+-----------+-----+----+\n",
      "|  0|18393|     2|   168|  62.0|  110|   80|          1|    0|null|\n",
      "|  1|20228|     1|   156|  85.0|  140|   90|          3|    0|null|\n",
      "|  2|18857|     1|   165|  64.0|  130|   70|          3|    0|null|\n",
      "|  3|17623|     2|   169|  82.0|  150|  100|          1|    0|null|\n",
      "|  4|17474|     1|   156|  56.0|  100|   60|          1|    0|null|\n",
      "|  8|21914|     1|   151|  67.0|  120|   80|          2|    0|null|\n",
      "|  9|22113|     1|   157|  93.0|  130|   80|          3|    0|null|\n",
      "| 12|22584|     2|   178|  95.0|  130|   90|          3|    0|null|\n",
      "| 13|17668|     1|   158|  71.0|  110|   70|          1|    0|null|\n",
      "| 14|19834|     1|   164|  68.0|  110|   60|          1|    0|null|\n",
      "| 15|22530|     1|   169|  80.0|  120|   80|          1|    0|null|\n",
      "| 16|18815|     2|   173|  60.0|  120|   80|          1|    0|null|\n",
      "| 18|14791|     2|   165|  60.0|  120|   80|          1|    0|null|\n",
      "| 21|19809|     1|   158|  78.0|  110|   70|          1|    0|null|\n",
      "| 23|14532|     2|   181|  95.0|  130|   90|          1|    1|null|\n",
      "| 24|16782|     2|   172| 112.0|  120|   80|          1|    0|null|\n",
      "| 25|21296|     1|   170|  75.0|  130|   70|          1|    0|null|\n",
      "| 27|16747|     1|   158|  52.0|  110|   70|          1|    0|null|\n",
      "| 28|17482|     1|   154|  68.0|  100|   70|          1|    0|null|\n",
      "| 29|21755|     2|   162|  56.0|  120|   70|          1|    1|null|\n",
      "+---+-----+------+------+------+-----+-----+-----------+-----+----+\n",
      "only showing top 20 rows\n",
      "\n"
     ]
    }
   ],
   "source": [
    "#Suppose the dataset was split into two or more parts, each maintaining the row id\n",
    "#Then we can combine the data in pySpark with sql JOIN query \n",
    "#https://sparkbyexamples.com/pyspark/pyspark-read-csv-file-into-dataframe/from pyspark.sql import SparkSession\n",
    "\n",
    "df_base = spark.read.options(header='True', inferSchema='True', delimiter=',').csv(\"./data/cardio_base.csv\")\n",
    "df_base.createOrReplaceTempView(\"tab_base\")\n",
    "df_base.printSchema()\n",
    "df_alco = spark.read.options(header='True', inferSchema='True', delimiter=';').csv(\"./data/cardio_alco.csv\")\n",
    "df_alco.createOrReplaceTempView(\"tab_alco\")\n",
    "df_alco.printSchema()\n",
    "\n",
    "#join query\n",
    "df_base = ss.sql(\"select tb.*, ta.alco from tab_base tb left join tab_alco ta on ta.id = tb.id\")\n",
    "df_base.show()"
   ]
  },
  {
   "cell_type": "code",
   "execution_count": 49,
   "id": "0d382084",
   "metadata": {
    "scrolled": true
   },
   "outputs": [
    {
     "data": {
      "text/html": [
       "<div>\n",
       "<style scoped>\n",
       "    .dataframe tbody tr th:only-of-type {\n",
       "        vertical-align: middle;\n",
       "    }\n",
       "\n",
       "    .dataframe tbody tr th {\n",
       "        vertical-align: top;\n",
       "    }\n",
       "\n",
       "    .dataframe thead th {\n",
       "        text-align: right;\n",
       "    }\n",
       "</style>\n",
       "<table border=\"1\" class=\"dataframe\">\n",
       "  <thead>\n",
       "    <tr style=\"text-align: right;\">\n",
       "      <th></th>\n",
       "      <th>id</th>\n",
       "      <th>age</th>\n",
       "      <th>gender</th>\n",
       "      <th>height</th>\n",
       "      <th>weight</th>\n",
       "      <th>ap_hi</th>\n",
       "      <th>ap_lo</th>\n",
       "      <th>cholesterol</th>\n",
       "      <th>gluc</th>\n",
       "      <th>smoke</th>\n",
       "      <th>alco</th>\n",
       "      <th>active</th>\n",
       "      <th>cardio</th>\n",
       "    </tr>\n",
       "  </thead>\n",
       "  <tbody>\n",
       "    <tr>\n",
       "      <th>0</th>\n",
       "      <td>0</td>\n",
       "      <td>18393</td>\n",
       "      <td>2</td>\n",
       "      <td>168</td>\n",
       "      <td>62.0</td>\n",
       "      <td>110</td>\n",
       "      <td>80</td>\n",
       "      <td>1</td>\n",
       "      <td>1</td>\n",
       "      <td>0</td>\n",
       "      <td>0</td>\n",
       "      <td>1</td>\n",
       "      <td>0</td>\n",
       "    </tr>\n",
       "    <tr>\n",
       "      <th>1</th>\n",
       "      <td>1</td>\n",
       "      <td>20228</td>\n",
       "      <td>1</td>\n",
       "      <td>156</td>\n",
       "      <td>85.0</td>\n",
       "      <td>140</td>\n",
       "      <td>90</td>\n",
       "      <td>3</td>\n",
       "      <td>1</td>\n",
       "      <td>0</td>\n",
       "      <td>0</td>\n",
       "      <td>1</td>\n",
       "      <td>1</td>\n",
       "    </tr>\n",
       "    <tr>\n",
       "      <th>2</th>\n",
       "      <td>2</td>\n",
       "      <td>18857</td>\n",
       "      <td>1</td>\n",
       "      <td>165</td>\n",
       "      <td>64.0</td>\n",
       "      <td>130</td>\n",
       "      <td>70</td>\n",
       "      <td>3</td>\n",
       "      <td>1</td>\n",
       "      <td>0</td>\n",
       "      <td>0</td>\n",
       "      <td>0</td>\n",
       "      <td>1</td>\n",
       "    </tr>\n",
       "    <tr>\n",
       "      <th>3</th>\n",
       "      <td>3</td>\n",
       "      <td>17623</td>\n",
       "      <td>2</td>\n",
       "      <td>169</td>\n",
       "      <td>82.0</td>\n",
       "      <td>150</td>\n",
       "      <td>100</td>\n",
       "      <td>1</td>\n",
       "      <td>1</td>\n",
       "      <td>0</td>\n",
       "      <td>0</td>\n",
       "      <td>1</td>\n",
       "      <td>1</td>\n",
       "    </tr>\n",
       "    <tr>\n",
       "      <th>4</th>\n",
       "      <td>4</td>\n",
       "      <td>17474</td>\n",
       "      <td>1</td>\n",
       "      <td>156</td>\n",
       "      <td>56.0</td>\n",
       "      <td>100</td>\n",
       "      <td>60</td>\n",
       "      <td>1</td>\n",
       "      <td>1</td>\n",
       "      <td>0</td>\n",
       "      <td>0</td>\n",
       "      <td>0</td>\n",
       "      <td>0</td>\n",
       "    </tr>\n",
       "  </tbody>\n",
       "</table>\n",
       "</div>"
      ],
      "text/plain": [
       "   id    age  gender  height  weight  ap_hi  ap_lo  cholesterol  gluc  smoke  \\\n",
       "0   0  18393       2     168    62.0    110     80            1     1      0   \n",
       "1   1  20228       1     156    85.0    140     90            3     1      0   \n",
       "2   2  18857       1     165    64.0    130     70            3     1      0   \n",
       "3   3  17623       2     169    82.0    150    100            1     1      0   \n",
       "4   4  17474       1     156    56.0    100     60            1     1      0   \n",
       "\n",
       "   alco  active  cardio  \n",
       "0     0       1       0  \n",
       "1     0       1       1  \n",
       "2     0       0       1  \n",
       "3     0       1       1  \n",
       "4     0       0       0  "
      ]
     },
     "execution_count": 49,
     "metadata": {},
     "output_type": "execute_result"
    }
   ],
   "source": [
    "#Now that the data is loaded entirely, let's look at some rows and after we'll see descriptive statistics over it.\n",
    "pd_df_cardio.head()"
   ]
  },
  {
   "cell_type": "code",
   "execution_count": 50,
   "id": "3bccbdf7",
   "metadata": {},
   "outputs": [
    {
     "data": {
      "text/html": [
       "<div>\n",
       "<style scoped>\n",
       "    .dataframe tbody tr th:only-of-type {\n",
       "        vertical-align: middle;\n",
       "    }\n",
       "\n",
       "    .dataframe tbody tr th {\n",
       "        vertical-align: top;\n",
       "    }\n",
       "\n",
       "    .dataframe thead th {\n",
       "        text-align: right;\n",
       "    }\n",
       "</style>\n",
       "<table border=\"1\" class=\"dataframe\">\n",
       "  <thead>\n",
       "    <tr style=\"text-align: right;\">\n",
       "      <th></th>\n",
       "      <th>id</th>\n",
       "      <th>age</th>\n",
       "      <th>gender</th>\n",
       "      <th>height</th>\n",
       "      <th>weight</th>\n",
       "      <th>ap_hi</th>\n",
       "      <th>ap_lo</th>\n",
       "      <th>cholesterol</th>\n",
       "      <th>gluc</th>\n",
       "      <th>smoke</th>\n",
       "      <th>alco</th>\n",
       "      <th>active</th>\n",
       "      <th>cardio</th>\n",
       "    </tr>\n",
       "  </thead>\n",
       "  <tbody>\n",
       "    <tr>\n",
       "      <th>count</th>\n",
       "      <td>70000.000000</td>\n",
       "      <td>70000.000000</td>\n",
       "      <td>70000.000000</td>\n",
       "      <td>70000.000000</td>\n",
       "      <td>70000.000000</td>\n",
       "      <td>70000.000000</td>\n",
       "      <td>70000.000000</td>\n",
       "      <td>70000.000000</td>\n",
       "      <td>70000.000000</td>\n",
       "      <td>70000.000000</td>\n",
       "      <td>70000.000000</td>\n",
       "      <td>70000.000000</td>\n",
       "      <td>70000.000000</td>\n",
       "    </tr>\n",
       "    <tr>\n",
       "      <th>mean</th>\n",
       "      <td>49972.419900</td>\n",
       "      <td>19468.865814</td>\n",
       "      <td>1.349571</td>\n",
       "      <td>164.359229</td>\n",
       "      <td>74.205690</td>\n",
       "      <td>128.817286</td>\n",
       "      <td>96.630414</td>\n",
       "      <td>1.366871</td>\n",
       "      <td>1.226457</td>\n",
       "      <td>0.088129</td>\n",
       "      <td>0.053771</td>\n",
       "      <td>0.803729</td>\n",
       "      <td>0.499700</td>\n",
       "    </tr>\n",
       "    <tr>\n",
       "      <th>std</th>\n",
       "      <td>28851.302323</td>\n",
       "      <td>2467.251667</td>\n",
       "      <td>0.476838</td>\n",
       "      <td>8.210126</td>\n",
       "      <td>14.395757</td>\n",
       "      <td>154.011419</td>\n",
       "      <td>188.472530</td>\n",
       "      <td>0.680250</td>\n",
       "      <td>0.572270</td>\n",
       "      <td>0.283484</td>\n",
       "      <td>0.225568</td>\n",
       "      <td>0.397179</td>\n",
       "      <td>0.500003</td>\n",
       "    </tr>\n",
       "    <tr>\n",
       "      <th>min</th>\n",
       "      <td>0.000000</td>\n",
       "      <td>10798.000000</td>\n",
       "      <td>1.000000</td>\n",
       "      <td>55.000000</td>\n",
       "      <td>10.000000</td>\n",
       "      <td>-150.000000</td>\n",
       "      <td>-70.000000</td>\n",
       "      <td>1.000000</td>\n",
       "      <td>1.000000</td>\n",
       "      <td>0.000000</td>\n",
       "      <td>0.000000</td>\n",
       "      <td>0.000000</td>\n",
       "      <td>0.000000</td>\n",
       "    </tr>\n",
       "    <tr>\n",
       "      <th>25%</th>\n",
       "      <td>25006.750000</td>\n",
       "      <td>17664.000000</td>\n",
       "      <td>1.000000</td>\n",
       "      <td>159.000000</td>\n",
       "      <td>65.000000</td>\n",
       "      <td>120.000000</td>\n",
       "      <td>80.000000</td>\n",
       "      <td>1.000000</td>\n",
       "      <td>1.000000</td>\n",
       "      <td>0.000000</td>\n",
       "      <td>0.000000</td>\n",
       "      <td>1.000000</td>\n",
       "      <td>0.000000</td>\n",
       "    </tr>\n",
       "    <tr>\n",
       "      <th>50%</th>\n",
       "      <td>50001.500000</td>\n",
       "      <td>19703.000000</td>\n",
       "      <td>1.000000</td>\n",
       "      <td>165.000000</td>\n",
       "      <td>72.000000</td>\n",
       "      <td>120.000000</td>\n",
       "      <td>80.000000</td>\n",
       "      <td>1.000000</td>\n",
       "      <td>1.000000</td>\n",
       "      <td>0.000000</td>\n",
       "      <td>0.000000</td>\n",
       "      <td>1.000000</td>\n",
       "      <td>0.000000</td>\n",
       "    </tr>\n",
       "    <tr>\n",
       "      <th>75%</th>\n",
       "      <td>74889.250000</td>\n",
       "      <td>21327.000000</td>\n",
       "      <td>2.000000</td>\n",
       "      <td>170.000000</td>\n",
       "      <td>82.000000</td>\n",
       "      <td>140.000000</td>\n",
       "      <td>90.000000</td>\n",
       "      <td>2.000000</td>\n",
       "      <td>1.000000</td>\n",
       "      <td>0.000000</td>\n",
       "      <td>0.000000</td>\n",
       "      <td>1.000000</td>\n",
       "      <td>1.000000</td>\n",
       "    </tr>\n",
       "    <tr>\n",
       "      <th>max</th>\n",
       "      <td>99999.000000</td>\n",
       "      <td>23713.000000</td>\n",
       "      <td>2.000000</td>\n",
       "      <td>250.000000</td>\n",
       "      <td>200.000000</td>\n",
       "      <td>16020.000000</td>\n",
       "      <td>11000.000000</td>\n",
       "      <td>3.000000</td>\n",
       "      <td>3.000000</td>\n",
       "      <td>1.000000</td>\n",
       "      <td>1.000000</td>\n",
       "      <td>1.000000</td>\n",
       "      <td>1.000000</td>\n",
       "    </tr>\n",
       "  </tbody>\n",
       "</table>\n",
       "</div>"
      ],
      "text/plain": [
       "                 id           age        gender        height        weight  \\\n",
       "count  70000.000000  70000.000000  70000.000000  70000.000000  70000.000000   \n",
       "mean   49972.419900  19468.865814      1.349571    164.359229     74.205690   \n",
       "std    28851.302323   2467.251667      0.476838      8.210126     14.395757   \n",
       "min        0.000000  10798.000000      1.000000     55.000000     10.000000   \n",
       "25%    25006.750000  17664.000000      1.000000    159.000000     65.000000   \n",
       "50%    50001.500000  19703.000000      1.000000    165.000000     72.000000   \n",
       "75%    74889.250000  21327.000000      2.000000    170.000000     82.000000   \n",
       "max    99999.000000  23713.000000      2.000000    250.000000    200.000000   \n",
       "\n",
       "              ap_hi         ap_lo   cholesterol          gluc         smoke  \\\n",
       "count  70000.000000  70000.000000  70000.000000  70000.000000  70000.000000   \n",
       "mean     128.817286     96.630414      1.366871      1.226457      0.088129   \n",
       "std      154.011419    188.472530      0.680250      0.572270      0.283484   \n",
       "min     -150.000000    -70.000000      1.000000      1.000000      0.000000   \n",
       "25%      120.000000     80.000000      1.000000      1.000000      0.000000   \n",
       "50%      120.000000     80.000000      1.000000      1.000000      0.000000   \n",
       "75%      140.000000     90.000000      2.000000      1.000000      0.000000   \n",
       "max    16020.000000  11000.000000      3.000000      3.000000      1.000000   \n",
       "\n",
       "               alco        active        cardio  \n",
       "count  70000.000000  70000.000000  70000.000000  \n",
       "mean       0.053771      0.803729      0.499700  \n",
       "std        0.225568      0.397179      0.500003  \n",
       "min        0.000000      0.000000      0.000000  \n",
       "25%        0.000000      1.000000      0.000000  \n",
       "50%        0.000000      1.000000      0.000000  \n",
       "75%        0.000000      1.000000      1.000000  \n",
       "max        1.000000      1.000000      1.000000  "
      ]
     },
     "execution_count": 50,
     "metadata": {},
     "output_type": "execute_result"
    }
   ],
   "source": [
    "pd_df_cardio.describe()"
   ]
  },
  {
   "cell_type": "code",
   "execution_count": 51,
   "id": "030d27f4",
   "metadata": {},
   "outputs": [],
   "source": [
    "#note that age column is in days, let's change that for complete years because we're going to use that as filter below\n",
    "df_cardio = ss.sql(\"select *, floor(age/365) as age_number from tab_cardio\")\n",
    "df_cardio.createOrReplaceTempView(\"tab_cardio\")\n",
    "pd_df_cardio = df_cardio.toPandas()"
   ]
  },
  {
   "cell_type": "code",
   "execution_count": 52,
   "id": "6396272e",
   "metadata": {},
   "outputs": [
    {
     "name": "stdout",
     "output_type": "stream",
     "text": [
      "gender\n",
      "1    161.355612\n",
      "2    169.947895\n",
      "Name: height, dtype: float64\n",
      "gender\n",
      "1    72.565605\n",
      "2    77.257307\n",
      "Name: weight, dtype: float64\n"
     ]
    }
   ],
   "source": [
    "print(pd_df_cardio.groupby('gender').height.mean())\n",
    "print(pd_df_cardio.groupby('gender').weight.mean())\n",
    "\n",
    "#The gender which is taller and heavier is probably men. So, we assume gender 2 is men and gender 1 is women\n",
    "df_cardio = ss.sql(\"select *, case gender when 1 then 'f' else 'm' end as gender_type from tab_cardio\")\n",
    "df_cardio.createOrReplaceTempView(\"tab_cardio\")\n",
    "pd_df_cardio = df_cardio.toPandas()"
   ]
  },
  {
   "cell_type": "code",
   "execution_count": 53,
   "id": "39ade87e",
   "metadata": {},
   "outputs": [
    {
     "data": {
      "text/plain": [
       "14.0"
      ]
     },
     "execution_count": 53,
     "metadata": {},
     "output_type": "execute_result"
    }
   ],
   "source": [
    "#whats the percentage the MAX height is higher than the lowest height?\n",
    "max_avg_weight = pd_df_cardio.groupby('age').weight.mean().max()\n",
    "min_avg_weight = pd_df_cardio.groupby('age').weight.mean().min()\n",
    "(max_avg_weight / min_avg_weight) - 1 "
   ]
  },
  {
   "cell_type": "code",
   "execution_count": 54,
   "id": "2afaabde",
   "metadata": {},
   "outputs": [
    {
     "data": {
      "text/plain": [
       "1.1563199045218837"
      ]
     },
     "execution_count": 54,
     "metadata": {},
     "output_type": "execute_result"
    }
   ],
   "source": [
    "#how much cholesterol people above 50yrs old have on average more than younger people?\n",
    "h_col_avg = pd_df_cardio[pd_df_cardio.age_number >= 50].groupby('age').cholesterol.mean().mean()\n",
    "l_col_avg = pd_df_cardio[pd_df_cardio.age_number < 50].groupby('age').cholesterol.mean().mean()\n",
    "h_col_avg / l_col_avg"
   ]
  },
  {
   "cell_type": "code",
   "execution_count": 55,
   "id": "cfc26d79",
   "metadata": {},
   "outputs": [
    {
     "data": {
      "text/plain": [
       "12.257833097333833"
      ]
     },
     "execution_count": 55,
     "metadata": {},
     "output_type": "execute_result"
    }
   ],
   "source": [
    "#how much men smoke on average more than women?\n",
    "men_smoke = pd_df_cardio[pd_df_cardio.gender_type == 'm'].smoke.mean()\n",
    "women_smoke = pd_df_cardio[pd_df_cardio.gender_type == 'f'].smoke.mean()\n",
    "men_smoke/women_smoke"
   ]
  },
  {
   "cell_type": "code",
   "execution_count": 56,
   "id": "6cd885c2",
   "metadata": {},
   "outputs": [
    {
     "name": "stdout",
     "output_type": "stream",
     "text": [
      "+---------+\n",
      "|1%tallest|\n",
      "+---------+\n",
      "|      184|\n",
      "+---------+\n",
      "\n",
      "184.0\n"
     ]
    }
   ],
   "source": [
    "#smallest height of 1% tallest\n",
    "import pyspark.sql.functions as F\n",
    "df_cardio.select(\n",
    "    F.percentile_approx('height', 0.99, 1000000).alias(\"1%tallest\")\n",
    ").show()\n",
    "\n",
    "\n",
    "print(pd_df_cardio['height'].quantile(q=0.99)) "
   ]
  },
  {
   "cell_type": "code",
   "execution_count": 57,
   "id": "86064ea3",
   "metadata": {},
   "outputs": [
    {
     "data": {
      "image/png": "[encoded data removed]",
      "text/plain": [
       "<Figure size 1100x800 with 1 Axes>"
      ]
     },
     "metadata": {},
     "output_type": "display_data"
    }
   ],
   "source": [
    "import numpy as np # linear algebra\n",
    "import pandas as pd # data processing, CSV file I/O (e.g. pd.read_csv)\n",
    "import seaborn as sns\n",
    "from matplotlib import pyplot as plt\n",
    "import os\n",
    "from matplotlib import rcParams\n",
    "rcParams['figure.figsize'] = 11, 8\n",
    "pd_df_cardio['years'] = (pd_df_cardio['age'] / 365).round().astype('int')\n",
    "sns.countplot(x='years', hue='alco', data = pd_df_cardio, palette=\"Set2\");"
   ]
  },
  {
   "cell_type": "code",
   "execution_count": null,
   "id": "e7186475",
   "metadata": {},
   "outputs": [],
   "source": [
    "df_categorical = pd_df_cardio.loc[:,[ 'smoke', 'alco']]\n",
    "sns.countplot(x=\"variable\", hue=\"value\",data= pd_df_cardio.melt(df_categorical));"
   ]
  },
  {
   "cell_type": "code",
   "execution_count": null,
   "id": "86395d2d",
   "metadata": {},
   "outputs": [],
   "source": [
    "pd_df_cardio.isnull().values.any()"
   ]
  },
  {
   "cell_type": "markdown",
   "id": "6463baac",
   "metadata": {},
   "source": [
    "Let's remove weights and heights, that fall below 2.5% or above 97.5% of a given range."
   ]
  },
  {
   "cell_type": "code",
   "execution_count": null,
   "id": "4e22a7d3",
   "metadata": {},
   "outputs": [],
   "source": [
    "pd_df_cardio.drop(pd_df_cardio[(pd_df_cardio['height'] > pd_df_cardio['height'].quantile(0.975)) | (df['height'] < pd_df_cardio['height'].quantile(0.025))].index,inplace=True)\n",
    "pd_df_cardio.drop(pd_df_cardio[(pd_df_cardio['weight'] > pd_df_cardio['weight'].quantile(0.975)) | (df['weight'] < pd_df_cardio['weight'].quantile(0.025))].index,inplace=True)"
   ]
  },
  {
   "cell_type": "markdown",
   "id": "4c8c3ec9",
   "metadata": {},
   "source": [
    "In addition, in some cases diastolic pressure is higher than systolic, which is also incorrect. How many records are inaccurate in terms of blood pressure?"
   ]
  },
  {
   "cell_type": "code",
   "execution_count": null,
   "id": "0666953a",
   "metadata": {},
   "outputs": [],
   "source": [
    "print(\"Diastilic pressure is higher than systolic one in {0} cases\".format(pd_df_cardio[pd_df_cardio['ap_lo']> pd_df_cardio['ap_hi']].shape[0]))"
   ]
  },
  {
   "cell_type": "markdown",
   "id": "9e7eb686",
   "metadata": {},
   "source": [
    "Let's get rid of the outliers, moreover blood pressure could not be negative value!"
   ]
  },
  {
   "cell_type": "code",
   "execution_count": null,
   "id": "bdf48b46",
   "metadata": {},
   "outputs": [],
   "source": [
    "pd_df_cardio.drop(pd_df_cardio[(pd_df_cardio['ap_hi'] > pd_df_cardio['ap_hi'].quantile(0.975)) | (pd_df_cardio['ap_hi'] < pd_df_cardio['ap_hi'].quantile(0.025))].index,inplace=True)\n",
    "pd_df_cardio.drop(pd_df_cardio[(pd_df_cardio['ap_lo'] > pd_df_cardio['ap_lo'].quantile(0.975)) | (pd_df_cardio['ap_lo'] < pd_df_cardio['ap_lo'].quantile(0.025))].index,inplace=True)"
   ]
  },
  {
   "cell_type": "code",
   "execution_count": null,
   "id": "227a13ad",
   "metadata": {},
   "outputs": [],
   "source": [
    "blood_pressure = pd_df_cardio.loc[:,['ap_lo','ap_hi']]\n",
    "sns.boxplot(x = 'variable',y = 'value',data = blood_pressure.melt())\n",
    "print(\"Diastilic pressure is higher than systolic one in {0} cases\".format(pd_df_cardio[pd_df_cardio['ap_lo']> pd_df_cardio['ap_hi']].shape[0]))"
   ]
  },
  {
   "cell_type": "code",
   "execution_count": null,
   "id": "39cbf1e3",
   "metadata": {},
   "outputs": [],
   "source": [
    "corr = pd_df_cardio.corr()\n",
    "cmap = sns.diverging_palette(220, 10, as_cmap=True)\n",
    "# Generate a mask for the upper triangle\n",
    "mask = np.zeros_like(corr, dtype=np.bool)\n",
    "mask[np.triu_indices_from(mask)] = True\n",
    "\n",
    "# Set up the matplotlib figure\n",
    "f, ax = plt.subplots(figsize=(11, 9))\n",
    "# Draw the heatmap with the mask and correct aspect ratio\n",
    "sns.heatmap(corr, mask=mask, cmap=cmap, vmax=.3, center=0,annot = True,\n",
    "            square=True, linewidths=.5, cbar_kws={\"shrink\": .5});"
   ]
  },
  {
   "cell_type": "code",
   "execution_count": null,
   "id": "e31d4527",
   "metadata": {
    "scrolled": true
   },
   "outputs": [],
   "source": [
    "import warnings\n",
    "warnings.filterwarnings(\"ignore\")\n",
    "df_melt = pd_df_cardio.melt(frame=df, value_vars=['height'], id_vars=['gender'])\n",
    "plt.figure(figsize=(12, 10))\n",
    "ax = sns.violinplot(\n",
    "    x='variable', \n",
    "    y='value', \n",
    "    hue='gender', \n",
    "    split=True, \n",
    "    data=df_melt, \n",
    "    scale='count',\n",
    "    scale_hue=False,\n",
    "    palette=\"Set2\");"
   ]
  },
  {
   "cell_type": "code",
   "execution_count": null,
   "id": "678376b4",
   "metadata": {},
   "outputs": [],
   "source": [
    "#Is satement true with 95% confidence? - men have higher blood pressure than women\n",
    "pd_df_cardio['BMI'] = pd_df_cardio['weight']/((pd_df_cardio['height']/100)**2)\n",
    "sns.catplot(x=\"gender\", y=\"ap_hi\", hue=\"smoke\", data=pd_df_cardio, color = \"yellow\",kind=\"box\", height=10, aspect=.7);"
   ]
  },
  {
   "cell_type": "code",
   "execution_count": null,
   "id": "a36cc6a1",
   "metadata": {},
   "outputs": [],
   "source": [
    "#For our analysis today, we'll also review this covid dataset\n",
    "df_covid = spark.read.options(header='True', inferSchema='True', delimiter=',').csv(\"./data/covid_data.csv\")\n",
    "df_covid.createOrReplaceTempView(\"tab_covid\")\n",
    "\n",
    "pd_df_covid = df_covid.toPandas()\n",
    "pd_df_covid.info()\n",
    "\n",
    "ss.sql(\"select * from tab_covid\").show()"
   ]
  },
  {
   "cell_type": "code",
   "execution_count": null,
   "id": "184fb1ef",
   "metadata": {},
   "outputs": [],
   "source": [
    "pd_df_covid.head()"
   ]
  },
  {
   "cell_type": "code",
   "execution_count": null,
   "id": "392b3c5c",
   "metadata": {
    "scrolled": true
   },
   "outputs": [],
   "source": [
    "pd_df_covid.describe()"
   ]
  },
  {
   "cell_type": "code",
   "execution_count": null,
   "id": "3b300264",
   "metadata": {},
   "outputs": [],
   "source": [
    "#covid cases difference between Germany and Italy\n",
    "df3.createOrReplaceTempView(\"tab_covid\")\n",
    "ss.sql(\"select sum(ger.cases - it.cases) as difference, ger.date from (select sum(new_cases) over (order by date asc) as cases, date from tab_covid where location = 'Italy') it left join (select sum(new_cases) over (order by date asc) as cases, date from tab_covid where location = 'Germany') ger on it.date = ger.date where abs(ger.cases - it.cases) >= 10000 group by ger.date \").show()"
   ]
  },
  {
   "cell_type": "code",
   "execution_count": null,
   "id": "bd1e4818",
   "metadata": {},
   "outputs": [],
   "source": [
    "#fit exponential function (y=Ae^(Bx)) to the column 'cases' as a function of days passed since '2020-02-28', by minimizing squared loss. What is the difference between the exponential curve and the total number of real cases on 2020-03-20?\n",
    "df = ss.sql(\"select sum(it.cases - ger.cases) as cases, ger.date from (select sum(new_cases) over (order by date asc) as cases, date from tab_covid where location = 'Italy') it left join (select sum(new_cases) over (order by date asc) as cases, date from tab_covid where location = 'Germany') ger on it.date = ger.date where  ger.date between '2020-02-28' and '2020-03-20' group by ger.date\")\n",
    "df.show()\n",
    "df = df.toPandas()\n",
    "\n",
    "import pandas as pd\n",
    "import numpy as np\n",
    "from scipy.optimize import curve_fit\n",
    "import matplotlib.pyplot as plt\n",
    "df['date'] = pd.to_datetime(df['date'])\n",
    "start_date = '2020-02-28'\n",
    "df = df[df['date'] >= start_date]\n",
    "\n",
    "# Filter the data for the desired date\n",
    "target_date = '2020-03-20'\n",
    "target_cases = df[df['date'] == target_date]['cases'].values[0]\n",
    "\n",
    "# Calculate the days passed since the start date\n",
    "df['days_passed'] = (pd.to_datetime(df['date']) - pd.to_datetime(start_date)).dt.days\n",
    "\n",
    "# Define the exponential function\n",
    "def exponential_func(x, A, B):\n",
    "    return A * np.exp(B * x)\n",
    "\n",
    "# Fit the exponential function to the 'cases' column values\n",
    "popt, _ = curve_fit(exponential_func, df['days_passed'], df['cases'])\n",
    "\n",
    "# Calculate the fitted values using the optimized parameters\n",
    "df['fitted_cases'] = exponential_func(df['days_passed'], *popt)\n",
    "\n",
    "# Plot the fitted curve and the actual 'cases' values\n",
    "plt.plot(df['days_passed'], df['cases'], label='Actual Cases')\n",
    "plt.plot(df['days_passed'], df['fitted_cases'], label='Fitted Curve')\n",
    "plt.xlabel('Days Passed')\n",
    "plt.ylabel('Cases')\n",
    "plt.title('Exponential Curve Fitting')\n",
    "plt.legend()\n",
    "plt.show()\n",
    "\n",
    "# Calculate the difference between the fitted curve and the total number of real cases on the target date\n",
    "difference = df[df['date'] == target_date]['fitted_cases'].values[0] - target_cases\n",
    "print('Difference:', difference)"
   ]
  },
  {
   "cell_type": "code",
   "execution_count": null,
   "id": "57046231",
   "metadata": {},
   "outputs": [],
   "source": [
    "#find f1 score of the following statement: Countries, where more than 20% of the population is over 65 years old, have death rates over 50 per million inhabitants.\n",
    "df = ss.sql(\"select location, max(aged_65_older_percent) aged_65_older_percent, sum(new_deaths)*1000000/max(population) as death_rate_per_million from tab_covid where aged_65_older_percent is not null group by location order by sum(new_deaths)*1000000/max(population) DESC\")\n",
    "df.show()\n",
    "df = df.toPandas()\n",
    "\n",
    "from sklearn.metrics import f1_score\n",
    "# Calculate the predicted labels based on the given statement condition\n",
    "df['predicted_label'] = (df['aged_65_older_percent'] > 20) & (df['death_rate_per_million'] > 50)\n",
    "\n",
    "# Calculate the actual labels based on the ground truth\n",
    "df['actual_label'] = (df['aged_65_older_percent'] > 20)  # Replace 'actual_condition_column' with your actual column name\n",
    "\n",
    "# Calculate the F1 score\n",
    "f1 = f1_score(df['actual_label'], df['predicted_label'])\n",
    "\n",
    "print('F1 Score:', f1)"
   ]
  },
  {
   "cell_type": "code",
   "execution_count": null,
   "id": "5baa2205",
   "metadata": {},
   "outputs": [],
   "source": [
    "#find f1 score of the following statement: Countries, where more than 20% of the population is over 65 years old, have death rates over 50 per million inhabitants.\n",
    "df = ss.sql(\"select location, max(hospital_beds_per_thousand) hospital_beds_per_thousand, max(gdp_per_capita) gdp_per_capita from tab_covid where hospital_beds_per_thousand is not null and gdp_per_capita is not null group by location\")\n",
    "df.show()\n",
    "df = df.toPandas()\n",
    "\n",
    "total_countries = len(df)\n",
    "selected_countries = df[df['hospital_beds_per_thousand'] >= 5]\n",
    "countries_with_high_gdp = selected_countries[selected_countries['gdp_per_capita'] >= 10000]\n",
    "probability = len(countries_with_high_gdp) / len(selected_countries)\n",
    "\n",
    "print('Probability:', probability)"
   ]
  }
 ],
 "metadata": {
  "kernelspec": {
   "display_name": "Python 3 (ipykernel)",
   "language": "python",
   "name": "python3"
  },
  "language_info": {
   "codemirror_mode": {
    "name": "ipython",
    "version": 3
   },
   "file_extension": ".py",
   "mimetype": "text/x-python",
   "name": "python",
   "nbconvert_exporter": "python",
   "pygments_lexer": "ipython3",
   "version": "3.10.9"
  }
 },
 "nbformat": 4,
 "nbformat_minor": 5
}
